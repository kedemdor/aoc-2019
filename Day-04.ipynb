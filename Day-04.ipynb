{
 "cells": [
  {
   "cell_type": "markdown",
   "id": "0afa9401",
   "metadata": {},
   "source": [
    "# [Day-04](https://adventofcode.com/2019/day/4): Valid passwords counts"
   ]
  },
  {
   "cell_type": "code",
   "execution_count": 1,
   "id": "58bfd574",
   "metadata": {},
   "outputs": [
    {
     "name": "stdout",
     "output_type": "stream",
     "text": [
      "4a. The number of valid passwords in range 206938-679128 is: 1653\n",
      "4b. The number of valid passwords in range 206938-679128 is: 1133\n"
     ]
    }
   ],
   "source": [
    "from collections import Counter\n",
    "\n",
    "def is_valid1(password):\n",
    "    digits = [int(digit) for digit in list(str(password))]\n",
    "    return (all(digits[i] <= digits[i+1] for i in range(len(digits)-1)) \n",
    "            and len(set(digits)) < len(digits))\n",
    "\n",
    "def is_valid2(password):\n",
    "    digits = [int(digit) for digit in list(str(password))]\n",
    "    return (all(digits[i] <= digits[i+1] for i in range(len(digits)-1))\n",
    "            and 2 in Counter(digits).values())\n",
    "\n",
    "print(\"4a. The number of valid passwords in range 206938-679128 is:\",\n",
    "      sum(map(is_valid1, range(206938, 679128+1))))\n",
    "print(\"4b. The number of valid passwords in range 206938-679128 is:\",\n",
    "      sum(map(is_valid2, range(206938, 679128+1))))"
   ]
  }
 ],
 "metadata": {
  "kernelspec": {
   "display_name": "Python 3",
   "language": "python",
   "name": "python3"
  },
  "language_info": {
   "codemirror_mode": {
    "name": "ipython",
    "version": 3
   },
   "file_extension": ".py",
   "mimetype": "text/x-python",
   "name": "python",
   "nbconvert_exporter": "python",
   "pygments_lexer": "ipython3",
   "version": "3.8.8"
  }
 },
 "nbformat": 4,
 "nbformat_minor": 5
}
