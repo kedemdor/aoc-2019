{
 "cells": [
  {
   "cell_type": "markdown",
   "id": "c5e3315a",
   "metadata": {},
   "source": [
    "# [Day-06](https://adventofcode.com/2019/day/6): Direct & indirect orbits"
   ]
  },
  {
   "cell_type": "code",
   "execution_count": 1,
   "id": "3e8c9eac",
   "metadata": {},
   "outputs": [
    {
     "name": "stdout",
     "output_type": "stream",
     "text": [
      "6a. Total number of direct & indirect orbits: [147807]\n",
      "6b. Minimum orbital transfers to Santa: [229]\n"
     ]
    }
   ],
   "source": [
    "import networkx as nx\n",
    "\n",
    "with open(\"./input/Day-06.txt\", \"r\") as orbit_map_file:\n",
    "    orbit_map_lines = [tuple(orbit_map_line.strip().split(')')) for orbit_map_line in orbit_map_file.readlines()]\n",
    "\n",
    "def count_total_orbits(g, root_node=\"COM\"):\n",
    "    to_visit_nodes, visited_nodes = [root_node], {root_node: set()}\n",
    "    orbits = set()\n",
    "    while to_visit_nodes:\n",
    "        node = to_visit_nodes.pop()\n",
    "        for orbit in g[node]:\n",
    "            visited_nodes[orbit] = visited_nodes[node].union([node])\n",
    "            orbits = orbits.union((visited_node, orbit) for visited_node in visited_nodes[orbit])\n",
    "            to_visit_nodes.append(orbit)\n",
    "    return len(orbits), len(visited_nodes[\"YOU\"].symmetric_difference(visited_nodes[\"SAN\"]))\n",
    "\n",
    "g = nx.DiGraph(orbit_map_lines)\n",
    "print(\"6a. Total number of direct & indirect orbits: [{}]\\n6b. Minimum orbital transfers to Santa: [{}]\".format(\n",
    "      *count_total_orbits(g)))"
   ]
  },
  {
   "cell_type": "code",
   "execution_count": 2,
   "id": "a72f8eb4",
   "metadata": {},
   "outputs": [
    {
     "name": "stdout",
     "output_type": "stream",
     "text": [
      "2.07 s ± 28.5 ms per loop (mean ± std. dev. of 7 runs, 1 loop each)\n"
     ]
    }
   ],
   "source": [
    "%timeit count_total_orbits(g)"
   ]
  }
 ],
 "metadata": {
  "kernelspec": {
   "display_name": "Python 3",
   "language": "python",
   "name": "python3"
  },
  "language_info": {
   "codemirror_mode": {
    "name": "ipython",
    "version": 3
   },
   "file_extension": ".py",
   "mimetype": "text/x-python",
   "name": "python",
   "nbconvert_exporter": "python",
   "pygments_lexer": "ipython3",
   "version": "3.8.8"
  }
 },
 "nbformat": 4,
 "nbformat_minor": 5
}
