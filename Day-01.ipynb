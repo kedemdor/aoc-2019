{
 "cells": [
  {
   "cell_type": "markdown",
   "id": "1ba404ee",
   "metadata": {},
   "source": [
    "# [Day-01](https://adventofcode.com/2019/day/1): Fuel weight calculations."
   ]
  },
  {
   "cell_type": "code",
   "execution_count": 20,
   "id": "5c9fd13f",
   "metadata": {},
   "outputs": [
    {
     "name": "stdout",
     "output_type": "stream",
     "text": [
      "1a. Sum of fuel requirements: 3295424\n",
      "1b. Sum of fuel requirements: 4940279\n"
     ]
    }
   ],
   "source": [
    "with open(\"./input/Day-01.txt\", \"r\") as masses_file:\n",
    "    masses = [int(mass) for mass in masses_file.readlines()]\n",
    "\n",
    "def calculate_fuel(mass, deep=True):\n",
    "    total_fuel = 0\n",
    "    while True:\n",
    "        additional_required_fuel = mass // 3 - 2\n",
    "        if additional_required_fuel <= 0: break\n",
    "        total_fuel, mass = total_fuel + additional_required_fuel, additional_required_fuel\n",
    "        if not deep: break\n",
    "    return total_fuel\n",
    "\n",
    "def compute_sum_fuel_requirements(masses, deep):\n",
    "    return sum(calculate_fuel(mass, deep=deep) for mass in masses)\n",
    "\n",
    "print(f\"1a. Sum of fuel requirements:\", compute_sum_fuel_requirements(masses, deep=False))\n",
    "print(f\"1b. Sum of fuel requirements:\", compute_sum_fuel_requirements(masses, deep=True))"
   ]
  },
  {
   "cell_type": "code",
   "execution_count": 10,
   "id": "c16bd492",
   "metadata": {},
   "outputs": [
    {
     "name": "stdout",
     "output_type": "stream",
     "text": [
      "22.1 µs ± 2.23 µs per loop (mean ± std. dev. of 7 runs, 10000 loops each)\n"
     ]
    }
   ],
   "source": [
    "%%timeit\n",
    "compute_sum_fuel_requirements(masses, deep=False)"
   ]
  },
  {
   "cell_type": "code",
   "execution_count": 18,
   "id": "8cc06ff1",
   "metadata": {},
   "outputs": [
    {
     "name": "stdout",
     "output_type": "stream",
     "text": [
      "79.6 µs ± 13.3 µs per loop (mean ± std. dev. of 7 runs, 10000 loops each)\n"
     ]
    }
   ],
   "source": [
    "%%timeit\n",
    "compute_sum_fuel_requirements(masses, deep=True)"
   ]
  }
 ],
 "metadata": {
  "kernelspec": {
   "display_name": "Python 3",
   "language": "python",
   "name": "python3"
  },
  "language_info": {
   "codemirror_mode": {
    "name": "ipython",
    "version": 3
   },
   "file_extension": ".py",
   "mimetype": "text/x-python",
   "name": "python",
   "nbconvert_exporter": "python",
   "pygments_lexer": "ipython3",
   "version": "3.8.8"
  }
 },
 "nbformat": 4,
 "nbformat_minor": 5
}
