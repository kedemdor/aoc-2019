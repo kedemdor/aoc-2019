{
 "cells": [
  {
   "cell_type": "markdown",
   "id": "ed784f6e",
   "metadata": {},
   "source": [
    "# [Day-08](https://adventofcode.com/2019/day/8): Message in image layers"
   ]
  },
  {
   "cell_type": "code",
   "execution_count": 1,
   "id": "91c196b2",
   "metadata": {},
   "outputs": [
    {
     "name": "stdout",
     "output_type": "stream",
     "text": [
      "8a. Product for layer with minimum 0s: 1560\n",
      "8b. Hidden message:\n"
     ]
    },
    {
     "data": {
      "image/png": "[encoded data removed]",
      "text/plain": [
       "<Figure size 432x288 with 1 Axes>"
      ]
     },
     "metadata": {
      "needs_background": "light"
     },
     "output_type": "display_data"
    }
   ],
   "source": [
    "import numpy as np\n",
    "from collections import Counter\n",
    "from matplotlib.pyplot import imshow\n",
    "\n",
    "# Read the image and break to layers.\n",
    "height, width = 6, 25\n",
    "with open(\"./input/Day-08.txt\", \"r\") as image_file:\n",
    "    image_numbers = np.array(list(int(x) for x in image_file.readline().strip()))\n",
    "layers = image_numbers.reshape(len(image_numbers) // (height * width), height, width)\n",
    "\n",
    "# 8a. Find the #1 * #2 for the image with the fewest #0 is \n",
    "layer_with_min_zeros_stats = dict(min(sorted(Counter(layer.flatten()).items()) for layer in layers))\n",
    "print(\"8a. Product for layer with minimum 0s:\", layer_with_min_zeros_stats[1] * layer_with_min_zeros_stats[2])\n",
    "\n",
    "# 8b. Merge layers to see the message.\n",
    "image = 2 + np.zeros(layers[0].shape)  # Start with an all transparent layer.\n",
    "for layer in layers:                   # Use layers to fill transparent pixesl.\n",
    "    image[image == 2] = layer[image == 2]\n",
    "print(\"8b. Hidden message:\")\n",
    "imshow(image);"
   ]
  }
 ],
 "metadata": {
  "kernelspec": {
   "display_name": "Python 3",
   "language": "python",
   "name": "python3"
  },
  "language_info": {
   "codemirror_mode": {
    "name": "ipython",
    "version": 3
   },
   "file_extension": ".py",
   "mimetype": "text/x-python",
   "name": "python",
   "nbconvert_exporter": "python",
   "pygments_lexer": "ipython3",
   "version": "3.8.8"
  }
 },
 "nbformat": 4,
 "nbformat_minor": 5
}
