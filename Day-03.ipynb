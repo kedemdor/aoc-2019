{
 "cells": [
  {
   "cell_type": "markdown",
   "id": "fb0bb0a1",
   "metadata": {},
   "source": [
    "# [Day-03](https://adventofcode.com/2019/day/3): Distance to closest wire intersection"
   ]
  },
  {
   "cell_type": "code",
   "execution_count": 1,
   "id": "45164bdb",
   "metadata": {},
   "outputs": [
    {
     "name": "stdout",
     "output_type": "stream",
     "text": [
      "Closest Manhattan distance intersection: 1431\n",
      "Closest total steps distance intersection 48012\n"
     ]
    }
   ],
   "source": [
    "with open(\"./input/Day-03.txt\", \"r\") as wires_instructions_file:\n",
    "    wires_instructions = [wire.strip().split(',') for wire in wires_instructions_file.readlines()]\n",
    "    \n",
    "def lay_wire(wire_instructions):\n",
    "    \"\"\" Lays the single wire on the grid, starting from (0,0) and following the given set of instructions. \"\"\"\n",
    "    # Defining the instructions for laying the wires.\n",
    "    progress = {\"U\": lambda x, y: (x,y+1), \"D\": lambda x, y: (x,y-1),\n",
    "                \"R\": lambda x, y: (x+1,y), \"L\": lambda x, y: (x-1,y)}\n",
    "    current, steps, wires = (0, 0), 0, dict()\n",
    "    for instruction in wire_instructions:\n",
    "        direction, amount = instruction[0], int(instruction[1:])\n",
    "        while amount:\n",
    "            current = progress[direction](*current)\n",
    "            steps += 1\n",
    "            if current not in wires:\n",
    "                wires[current] = steps\n",
    "            amount -= 1\n",
    "    return wires\n",
    "\n",
    "wires = [lay_wire(wire_instructions) for wire_instructions in wires_instructions]\n",
    "intersection_points = set(wires[0].keys()).intersection(set(wires[1].keys()))\n",
    "print(\"Closest Manhattan distance intersection:\",\n",
    "      min(abs(a) + abs(b) for a,b in intersection_points))\n",
    "print(\"Closest total steps distance intersection\",\n",
    "      min(wires[0][point] + wires[1][point] for point in intersection_points))"
   ]
  },
  {
   "cell_type": "code",
   "execution_count": 2,
   "id": "5ca96743",
   "metadata": {},
   "outputs": [
    {
     "name": "stdout",
     "output_type": "stream",
     "text": [
      "96.2 ms ± 2.83 ms per loop (mean ± std. dev. of 7 runs, 10 loops each)\n"
     ]
    }
   ],
   "source": [
    "%%timeit\n",
    "wires = [lay_wire(wire_instructions) for wire_instructions in wires_instructions]\n",
    "intersection_points = set(wires[0].keys()).intersection(set(wires[1].keys()))\n",
    "min(abs(a) + abs(b) for a,b in intersection_points)\n",
    "min(wires[0][point] + wires[1][point] for point in intersection_points)"
   ]
  }
 ],
 "metadata": {
  "kernelspec": {
   "display_name": "Python 3",
   "language": "python",
   "name": "python3"
  },
  "language_info": {
   "codemirror_mode": {
    "name": "ipython",
    "version": 3
   },
   "file_extension": ".py",
   "mimetype": "text/x-python",
   "name": "python",
   "nbconvert_exporter": "python",
   "pygments_lexer": "ipython3",
   "version": "3.8.8"
  }
 },
 "nbformat": 4,
 "nbformat_minor": 5
}
