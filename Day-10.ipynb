{
 "cells": [
  {
   "cell_type": "markdown",
   "id": "2bfee230",
   "metadata": {},
   "source": [
    "# [Day-10](https://adventofcode.com/2019/day/10) - Finding most visible asteroid for a base."
   ]
  },
  {
   "cell_type": "code",
   "execution_count": 1,
   "id": "eee4110b",
   "metadata": {},
   "outputs": [
    {
     "name": "stdout",
     "output_type": "stream",
     "text": [
      "10a (in line). The chosen base is in (20, 19), viewing [284] other astroids.\n",
      "10a (azimuth). The chosen base is in (20, 19), viewing [284] other astroids.\n",
      "10b. The 200th astroid blown up from (20, 19) was (4, 4).\n"
     ]
    }
   ],
   "source": [
    "import math\n",
    "import numpy as np\n",
    "import pandas as pd\n",
    "\n",
    "asteroids_map = pd.read_csv(\"./input/Day-10.txt\", header=None)[0].str.extractall('(.)')[0].unstack().values\n",
    "asteroids_set = set((x,y) for y,x in zip(*(asteroids_map == '#').nonzero())) # Flips coordinates to match instructions.\n",
    "\n",
    "def in_line_of_sight(a,b):\n",
    "    \"\"\"Calculates the number of integer locations in line of sight between a & b.\"\"\"\n",
    "    if a == b: return []\n",
    "    diff = np.array([b[0] - a[0], b[1] - a[1]])\n",
    "    if not diff[0]:   sight = [(a[0], y) for y in range(a[1], b[1], (b[1] - a[1]) // abs(b[1] - a[1]))][1:]\n",
    "    elif not diff[1]: sight = [(x, a[1]) for x in range(a[0], b[0], (b[0] - a[0]) // abs(b[0] - a[0]))][1:]\n",
    "    else:\n",
    "        min_integer_jump = min(abs(diff)) / math.gcd(*diff)\n",
    "        jumps = ((diff / min(abs(diff))) * min_integer_jump).astype(int)\n",
    "        sight = list(zip(range(a[0],b[0],jumps[0]), range(a[1],b[1],jumps[1])))[1:]\n",
    "    return sight\n",
    "\n",
    "def calc_azimuth(a,b):\n",
    "    \"\"\"Calculate the clockwise azimuth angle (in radians) & distance between from a to b.\"\"\"\n",
    "    diff = np.array([a[0] - b[0], a[1] - b[1]])\n",
    "    diff_unit = diff / np.linalg.norm(diff)\n",
    "    radians = np.arccos(np.clip(np.dot([0,1], diff_unit), -1.0, 1.0))\n",
    "    radians = radians if diff[0] <= 0 else np.pi * 2 - radians # Fixes radians to make some radians greater than np.pi\n",
    "    return (np.around(radians, 8), np.linalg.norm(diff))\n",
    "\n",
    "def blow_up_astroids(base, num_astroids_to_blow_up=200):\n",
    "    # Computing angles from base to all asteroids.\n",
    "    angles_from_base = sorted([(*calc_azimuth(base, asteroid), asteroid) \n",
    "                               for asteroid in asteroids_set if asteroid != base])\n",
    "    # Stack astroids from each angle to the asteroids in this angle.\n",
    "    angles_to_asteroids_dict = dict()\n",
    "    for angle, _, asteroid in angles_from_base:\n",
    "        if angle not in angles_to_asteroids_dict:\n",
    "            angles_to_asteroids_dict[angle] = []\n",
    "        angles_to_asteroids_dict[angle].append(asteroid)\n",
    "    # Blow up the astroids rotating the laser clockwise after each explosion to next astroid.\n",
    "    angles_to_meteros_keys = sorted(angles_to_asteroids_dict.keys())\n",
    "    i, current_angle_pointer = 1, 0\n",
    "    while i <= num_astroids_to_blow_up:\n",
    "        angle = angles_to_meteros_keys[current_angle_pointer]\n",
    "        if angles_to_asteroids_dict[angle]:\n",
    "            exploded_asteroid = angles_to_asteroids_dict[angle].pop(0)\n",
    "            if i == num_astroids_to_blow_up:\n",
    "                return exploded_asteroid\n",
    "            i += 1\n",
    "        current_angle_pointer = current_angle_pointer + 1 % len(angles_to_meteros_keys)\n",
    "    \n",
    "# Find the asteroid viewing the most other astroids.\n",
    "def solve10a_in_line():\n",
    "    # Faster, but relies on coordinates being integers.\n",
    "    return max((sum(not any(asteroids_set.intersection(in_line_of_sight(chosen_base, asteroid))) \n",
    "                    for asteroid in asteroids_set if asteroid != chosen_base), \n",
    "                chosen_base) for chosen_base in asteroids_set)\n",
    "def solve10a_azimuth():\n",
    "    # Slower, but works for float coordinates, and reuses code from 10b.\n",
    "    return max((len(set(calc_azimuth(chosen_base, asteroid)[0] \n",
    "                        for asteroid in asteroids_set if asteroid != chosen_base)),\n",
    "                chosen_base) for chosen_base in asteroids_set)\n",
    "\n",
    "visible_astroids, chosen_base = solve10a_in_line()\n",
    "print(f\"10a (in line). The chosen base is in {chosen_base}, viewing [{visible_astroids}] other astroids.\")\n",
    "visible_astroids, chosen_base = solve10a_azimuth()\n",
    "print(f\"10a (azimuth). The chosen base is in {chosen_base}, viewing [{visible_astroids}] other astroids.\")\n",
    "print(f\"10b. The 200th astroid blown up from {chosen_base} was {blow_up_astroids(chosen_base)}.\") "
   ]
  },
  {
   "cell_type": "code",
   "execution_count": 2,
   "id": "bcc7f4e5",
   "metadata": {},
   "outputs": [
    {
     "name": "stdout",
     "output_type": "stream",
     "text": [
      "1.06 s ± 11.5 ms per loop (mean ± std. dev. of 7 runs, 1 loop each)\n"
     ]
    }
   ],
   "source": [
    "%timeit solve10a_in_line()"
   ]
  },
  {
   "cell_type": "code",
   "execution_count": 3,
   "id": "9baf569f",
   "metadata": {},
   "outputs": [
    {
     "name": "stdout",
     "output_type": "stream",
     "text": [
      "5.58 s ± 124 ms per loop (mean ± std. dev. of 7 runs, 1 loop each)\n"
     ]
    }
   ],
   "source": [
    "%timeit solve10a_azimuth()"
   ]
  },
  {
   "cell_type": "code",
   "execution_count": 4,
   "id": "9c2f08cb",
   "metadata": {},
   "outputs": [
    {
     "name": "stdout",
     "output_type": "stream",
     "text": [
      "14.9 ms ± 432 µs per loop (mean ± std. dev. of 7 runs, 100 loops each)\n"
     ]
    }
   ],
   "source": [
    "%timeit blow_up_astroids(chosen_base)"
   ]
  }
 ],
 "metadata": {
  "kernelspec": {
   "display_name": "Python 3",
   "language": "python",
   "name": "python3"
  },
  "language_info": {
   "codemirror_mode": {
    "name": "ipython",
    "version": 3
   },
   "file_extension": ".py",
   "mimetype": "text/x-python",
   "name": "python",
   "nbconvert_exporter": "python",
   "pygments_lexer": "ipython3",
   "version": "3.8.8"
  }
 },
 "nbformat": 4,
 "nbformat_minor": 5
}
