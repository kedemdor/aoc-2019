{
 "cells": [
  {
   "cell_type": "markdown",
   "id": "9b2f8a04",
   "metadata": {},
   "source": [
    "# [Day-02](https://adventofcode.com/2019/day/2), [Day-05](https://adventofcode.com/2019/day/5), [Day-07](https://adventofcode.com/2019/day/7), [Day-09](https://adventofcode.com/2019/day/9): Intcode Program Interpreter"
   ]
  },
  {
   "cell_type": "code",
   "execution_count": 111,
   "id": "15744738",
   "metadata": {},
   "outputs": [],
   "source": [
    "from operator import add, mul, lt, eq\n",
    "from copy import copy\n",
    "\n",
    "def exec_intcode_program(program, op_pointer=0, inputs=None):\n",
    "    \"\"\" Executes the intcode program, used in days 2, 5, 7 & 9 of Advent of Code 2019. \n",
    "        - program: The program to execute.\n",
    "        - op_pointer: The pointer to the op to start the program at.\n",
    "        - inputs: The set of inputs for the program when it is requested. \n",
    "        The program will be adjusted, and will stop when requested to (op=99),\n",
    "        or when requested for input (op=3) without available input.\n",
    "        \"\"\"\n",
    "    # Define the relative base of the operations.\n",
    "    relative_base = 0\n",
    "    def change_relative_base(change): \n",
    "        nonlocal relative_base \n",
    "        relative_base += change\n",
    "    # Define the program operations.\n",
    "    opcode_details = {\n",
    "        1: {\"in_params_count\": 2, \"store_output\": 1, \"op\": add}, \n",
    "        2: {\"in_params_count\": 2, \"store_output\": 1, \"op\": mul}, \n",
    "        3: {\"in_params_count\": 0, \"store_output\": 1, \"op\": lambda: inputs.pop(0)}, \n",
    "        4: {\"in_params_count\": 1, \"store_output\": 0, \"op\": lambda x: outputs.append(x)},\n",
    "        5: {\"in_params_count\": 2, \"store_output\": 0, \"op\": lambda cond, addr: addr if cond else None},\n",
    "        6: {\"in_params_count\": 2, \"store_output\": 0, \"op\": lambda cond, addr: None if cond else addr},\n",
    "        7: {\"in_params_count\": 2, \"store_output\": 1, \"op\": lt},\n",
    "        8: {\"in_params_count\": 2, \"store_output\": 1, \"op\": eq},\n",
    "        9: {\"in_params_count\": 1, \"store_output\": 0, \"op\": change_relative_base}\n",
    "    }\n",
    "    # Define the logic to converting parameters to their values' addresses from the param mode.\n",
    "    def get_param_value_address(param_address, param_mode):\n",
    "        if   param_mode == 0: return program[param_address]\n",
    "        elif param_mode == 1: return param_address\n",
    "        elif param_mode == 2: return program[param_address] + relative_base\n",
    "    # Start the program.\n",
    "    outputs = []\n",
    "    while True:\n",
    "        # Break down op pointer to op instruction parts.\n",
    "        op_instruction = str(program[op_pointer]).zfill(5)\n",
    "        opcode, param_modes = int(op_instruction[-2:]), [int(digit) for digit in op_instruction[-3::-1]]\n",
    "        # Make sure we don't need to stop the program.\n",
    "        if opcode == 99 or (opcode == 3 and not inputs):\n",
    "            return opcode, op_pointer, outputs \n",
    "        # Retrieve opcode details from opcode.\n",
    "        in_params_count = opcode_details[opcode][\"in_params_count\"]\n",
    "        store_output    = opcode_details[opcode][\"store_output\"]\n",
    "        op              = opcode_details[opcode][\"op\"]\n",
    "        # Retrieve parameter value address from the param mode.\n",
    "        in_params_values = [program[get_param_value_address(param_address, param_mode)] for param_address, param_mode\n",
    "                            in zip(range(op_pointer+1, op_pointer+1+in_params_count), param_modes[:in_params_count])]\n",
    "        # Execute the operation.\n",
    "        out_val = op(*in_params_values)\n",
    "        # Store the output in the out_param specified address if required.\n",
    "        if store_output:\n",
    "            out_address = get_param_value_address(param_address=op_pointer + 1 + in_params_count,\n",
    "                                                  param_mode=param_modes[in_params_count])\n",
    "            program[out_address] = out_val\n",
    "        # Advance the op pointer (jump if successful jump command, advance otherwise)\n",
    "        op_pointer = (out_val if (opcode in [5,6] and out_val is not None) \n",
    "                      else op_pointer + 1 + in_params_count + store_output)"
   ]
  },
  {
   "cell_type": "markdown",
   "id": "42c7186a",
   "metadata": {},
   "source": [
    "## Day-02 - find program[0] value for different noun & verb"
   ]
  },
  {
   "cell_type": "code",
   "execution_count": 112,
   "id": "da544c90",
   "metadata": {},
   "outputs": [
    {
     "name": "stdout",
     "output_type": "stream",
     "text": [
      "2a. program[0] for [1202] program is [3790689].\n",
      "2b. program[0] for [6533] program is [19690720].\n"
     ]
    }
   ],
   "source": [
    "from itertools import product\n",
    "\n",
    "with open(\"./input/Day-02.txt\", \"r\") as program_file:\n",
    "    program_02 = [int(x) for x in program_file.readline().strip().split(',')]\n",
    "\n",
    "def set_noun_verb_and_exec_intcode_program(program:list, noun:int, verb:int):\n",
    "    program = copy(program)\n",
    "    program[1] = noun\n",
    "    program[2] = verb\n",
    "    exec_intcode_program(program)\n",
    "    return program[0]\n",
    "\n",
    "def search_noun_verb_from_result(program, result):\n",
    "    for noun, verb in product(range(100), range(100)):\n",
    "        if set_noun_verb_and_exec_intcode_program(program, noun, verb) == result:\n",
    "            return noun * 100 + verb\n",
    "\n",
    "print(f\"2a. program[0] for [1202] program is [{set_noun_verb_and_exec_intcode_program(program_02, noun=12, verb=2)}].\")\n",
    "print(f\"2b. program[0] for [{search_noun_verb_from_result(program_02, 19690720)}] program is [19690720].\")"
   ]
  },
  {
   "cell_type": "markdown",
   "id": "929e4798",
   "metadata": {},
   "source": [
    "# Day-05 - operators 3-8 + parameters modes"
   ]
  },
  {
   "cell_type": "code",
   "execution_count": 113,
   "id": "eb824bcc",
   "metadata": {},
   "outputs": [
    {
     "name": "stdout",
     "output_type": "stream",
     "text": [
      "5a. Intcode program outputs (input=1): [0, 0, 0, 0, 0, 0, 0, 0, 0, 10987514]\n",
      "5b. Intcode program outputs (input=5): [14195011]\n"
     ]
    }
   ],
   "source": [
    "with open(\"./input/Day-05.txt\", \"r\") as program_file:\n",
    "    program_05 = [int(x) for x in program_file.readline().strip().split(',')]\n",
    "\n",
    "print(\"5a. Intcode program outputs (input=1):\", exec_intcode_program(copy(program_05), inputs=[1])[2])\n",
    "print(\"5b. Intcode program outputs (input=5):\", exec_intcode_program(copy(program_05), inputs=[5])[2])"
   ]
  },
  {
   "cell_type": "markdown",
   "id": "5baa55e2",
   "metadata": {},
   "source": [
    "## Day-07 - amplifying the signal"
   ]
  },
  {
   "cell_type": "code",
   "execution_count": 114,
   "id": "795b496b",
   "metadata": {},
   "outputs": [
    {
     "name": "stdout",
     "output_type": "stream",
     "text": [
      "7a. Highest signal is [14902] with the setup (3, 1, 2, 0, 4).\n",
      "7b. Highest signal is [6489132] with the setup (9, 6, 7, 5, 8).\n"
     ]
    }
   ],
   "source": [
    "from itertools import permutations\n",
    "\n",
    "with open(\"./input/Day-07.txt\", \"r\") as program_file:\n",
    "    program_07 = [int(x) for x in program_file.readline().strip().split(',')]\n",
    "\n",
    "def find_highest_signal(program, possible_settings):\n",
    "    highest_signal, best_setting = 0, None\n",
    "    # Try all permutations of the possible settings.\n",
    "    for permutation in permutations(possible_settings):\n",
    "        # Keep separate copies of the programs for each amplifier.\n",
    "        programs = dict((setup, copy(program)) for setup in permutation)\n",
    "        op_pointers = dict((setup, 0) for setup in permutation)\n",
    "        # Setup the initial input signal for each amplifier.\n",
    "        inputs = dict((setup, [setup]) for setup in permutation)\n",
    "        inputs[permutation[0]].append(0)\n",
    "        # Execute all amplifiers, feeding one amplifier's output to the next's input. \n",
    "        i = 0\n",
    "        while True:\n",
    "            # Execute the current setup's amplifier.\n",
    "            setup = permutation[i % len(permutation)]\n",
    "            opcode, op_pointers[setup], output = exec_intcode_program(\n",
    "                programs[setup], op_pointer=op_pointers[setup], inputs=inputs[setup])               \n",
    "            # Add the amplifier's output to the next amplifier's input.\n",
    "            next_setup = permutation[(i+1) % len(permutation)]\n",
    "            inputs[next_setup] += output\n",
    "            # Stop if we've finished executing the last amplifier. \n",
    "            if opcode == 99 and not (i + 1) % len(permutation):\n",
    "                output = output.pop()\n",
    "                break\n",
    "            # Otherwise, advance to the next amplifier.\n",
    "            i += 1\n",
    "        # Keep track of the best settings.        \n",
    "        if output > highest_signal:\n",
    "            highest_signal = output\n",
    "            best_setting = permutation\n",
    "    return highest_signal, best_setting\n",
    "\n",
    "print(\"7a. Highest signal is [{}] with the setup {}.\".format(*find_highest_signal(program_07, range(5))))\n",
    "print(\"7b. Highest signal is [{}] with the setup {}.\".format(*find_highest_signal(program_07, range(5,10))))"
   ]
  },
  {
   "cell_type": "markdown",
   "id": "430b910e",
   "metadata": {},
   "source": [
    "## Day-09 - relative base parameter mode."
   ]
  },
  {
   "cell_type": "code",
   "execution_count": 115,
   "id": "46e25915",
   "metadata": {},
   "outputs": [
    {
     "name": "stdout",
     "output_type": "stream",
     "text": [
      "9a. Intcode program outputs (input=1): [2932210790]\n",
      "9b. Intcode program outputs (input=2): [73144]\n"
     ]
    }
   ],
   "source": [
    "from collections import defaultdict\n",
    "\n",
    "with open(\"./input/Day-09.txt\", \"r\") as program_file:\n",
    "    program_09 = [int(x) for x in program_file.readline().strip().split(',')]\n",
    "    program_09 = defaultdict(lambda: 0, zip(range(len(program_09)), program_09))  # For unlimited memory address.\n",
    "\n",
    "print(\"9a. Intcode program outputs (input=1):\", exec_intcode_program(copy(program_09), inputs=[1])[2])\n",
    "print(\"9b. Intcode program outputs (input=2):\", exec_intcode_program(copy(program_09), inputs=[2])[2])"
   ]
  }
 ],
 "metadata": {
  "kernelspec": {
   "display_name": "Python 3",
   "language": "python",
   "name": "python3"
  },
  "language_info": {
   "codemirror_mode": {
    "name": "ipython",
    "version": 3
   },
   "file_extension": ".py",
   "mimetype": "text/x-python",
   "name": "python",
   "nbconvert_exporter": "python",
   "pygments_lexer": "ipython3",
   "version": "3.8.8"
  }
 },
 "nbformat": 4,
 "nbformat_minor": 5
}
